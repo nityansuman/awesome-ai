{
 "cells": [
  {
   "cell_type": "markdown",
   "metadata": {},
   "source": [
    "# Custom Layers and Models via Subclassing"
   ]
  },
  {
   "cell_type": "code",
   "execution_count": 1,
   "metadata": {
    "ExecuteTime": {
     "end_time": "2021-02-09T16:55:37.659260Z",
     "start_time": "2021-02-09T16:55:36.056263Z"
    }
   },
   "outputs": [
    {
     "data": {
      "text/plain": [
       "'2.3.0'"
      ]
     },
     "execution_count": 1,
     "metadata": {},
     "output_type": "execute_result"
    }
   ],
   "source": [
    "# Import packages\n",
    "import tensorflow as tf\n",
    "from tensorflow.keras import layers\n",
    "\n",
    "tf.__version__ # 2.x"
   ]
  },
  {
   "cell_type": "markdown",
   "metadata": {},
   "source": [
    "## The Layer Class\n",
    "\n",
    "One of the central abstraction in TF is the Layer class.\n",
    "A layer encapsulates both a state (the layer's \"weights\") and a transformation from inputs to outputs (a \"call\", the layer's forward pass).\n",
    "\n",
    "Weights are created using `Variable` method and then passing a initializer to it."
   ]
  },
  {
   "cell_type": "code",
   "execution_count": 2,
   "metadata": {
    "ExecuteTime": {
     "end_time": "2021-02-09T16:55:37.665338Z",
     "start_time": "2021-02-09T16:55:37.660806Z"
    }
   },
   "outputs": [],
   "source": [
    "# Linear dense (without any activation) layer implementation\n",
    "class Linear(tf.keras.layers.Layer):\n",
    "    \n",
    "    def __init__(self, units=32, input_dim=32):\n",
    "        super(Linear, self).__init__()\n",
    "        # Initialize weights\n",
    "        w_init = tf.random_uniform_initializer()\n",
    "        self.w = tf.Variable(\n",
    "            initial_value=w_init(shape=(input_dim, units), dtype=\"float32\"), trainable=True,\n",
    "        )\n",
    "        # Initialize bias\n",
    "        b_init = tf.zeros_initializer()\n",
    "        self.b = tf.Variable(\n",
    "            initial_value=b_init(shape=(units,), dtype=\"float32\"), trainable=True\n",
    "        )\n",
    "    \n",
    "    def call(self, inputs):\n",
    "        # Forward pass\n",
    "        return tf.matmul(inputs, self.w) + self.b"
   ]
  },
  {
   "cell_type": "code",
   "execution_count": 3,
   "metadata": {
    "ExecuteTime": {
     "end_time": "2021-02-09T16:55:38.464059Z",
     "start_time": "2021-02-09T16:55:37.666937Z"
    }
   },
   "outputs": [
    {
     "data": {
      "text/plain": [
       "<__main__.Linear at 0x7f719c2bbb80>"
      ]
     },
     "execution_count": 3,
     "metadata": {},
     "output_type": "execute_result"
    }
   ],
   "source": [
    "Linear()"
   ]
  },
  {
   "cell_type": "markdown",
   "metadata": {},
   "source": [
    "You would use a layer by calling it on some input tensor, much like a Python function."
   ]
  },
  {
   "cell_type": "code",
   "execution_count": 4,
   "metadata": {
    "ExecuteTime": {
     "end_time": "2021-02-09T16:55:38.701021Z",
     "start_time": "2021-02-09T16:55:38.465123Z"
    }
   },
   "outputs": [
    {
     "name": "stdout",
     "output_type": "stream",
     "text": [
      "Output: tf.Tensor(\n",
      "[[ 0.0171706   0.0980462  -0.05334902 -0.04461349  0.01196626  0.07726953\n",
      "   0.00890495 -0.05230092  0.06306716 -0.01405647  0.03983072 -0.00656961\n",
      "   0.06502621 -0.07911715 -0.01575241  0.03177715 -0.04458169  0.02453979\n",
      "   0.02974322 -0.02328845  0.03419514 -0.0200019  -0.00210092 -0.03813468\n",
      "  -0.0244395   0.01576917  0.00891878  0.05301408 -0.04351387  0.0524676\n",
      "   0.00835221 -0.09076227]\n",
      " [ 0.0171706   0.0980462  -0.05334902 -0.04461349  0.01196626  0.07726953\n",
      "   0.00890495 -0.05230092  0.06306716 -0.01405647  0.03983072 -0.00656961\n",
      "   0.06502621 -0.07911715 -0.01575241  0.03177715 -0.04458169  0.02453979\n",
      "   0.02974322 -0.02328845  0.03419514 -0.0200019  -0.00210092 -0.03813468\n",
      "  -0.0244395   0.01576917  0.00891878  0.05301408 -0.04351387  0.0524676\n",
      "   0.00835221 -0.09076227]], shape=(2, 32), dtype=float32)\n"
     ]
    }
   ],
   "source": [
    "linear_layer = Linear(input_dim=2)\n",
    "y = linear_layer(tf.ones((2, 2)))\n",
    "\n",
    "print(\"Output:\", y)"
   ]
  },
  {
   "cell_type": "markdown",
   "metadata": {},
   "source": [
    "Better way to create weights for each layer is by using `add_weight`."
   ]
  },
  {
   "cell_type": "code",
   "execution_count": 5,
   "metadata": {
    "ExecuteTime": {
     "end_time": "2021-02-09T16:55:38.707019Z",
     "start_time": "2021-02-09T16:55:38.702658Z"
    }
   },
   "outputs": [],
   "source": [
    "class Linear(tf.keras.layers.Layer):\n",
    "    def __init__(self, units=32, input_dim=32):\n",
    "        super(Linear, self).__init__()\n",
    "        self.w = self.add_weight(\n",
    "            shape=(input_dim, units), initializer=tf.random_uniform_initializer(), trainable=True\n",
    "        )\n",
    "        self.b = self.add_weight(shape=(units,), initializer=tf.zeros_initializer(), trainable=True)\n",
    "\n",
    "    def call(self, inputs):\n",
    "        return tf.matmul(inputs, self.w) + self.b"
   ]
  },
  {
   "cell_type": "code",
   "execution_count": 6,
   "metadata": {
    "ExecuteTime": {
     "end_time": "2021-02-09T16:55:38.715174Z",
     "start_time": "2021-02-09T16:55:38.707989Z"
    }
   },
   "outputs": [
    {
     "data": {
      "text/plain": [
       "<__main__.Linear at 0x7f7127e81940>"
      ]
     },
     "execution_count": 6,
     "metadata": {},
     "output_type": "execute_result"
    }
   ],
   "source": [
    "Linear()"
   ]
  },
  {
   "cell_type": "code",
   "execution_count": 7,
   "metadata": {
    "ExecuteTime": {
     "end_time": "2021-02-09T16:55:38.724264Z",
     "start_time": "2021-02-09T16:55:38.716212Z"
    }
   },
   "outputs": [
    {
     "name": "stdout",
     "output_type": "stream",
     "text": [
      "Output: tf.Tensor(\n",
      "[[ 7.2281502e-02  2.8301883e-02 -1.1361875e-02  7.1414031e-02\n",
      "  -3.5958383e-02 -8.3475634e-02  3.4645200e-05 -1.0341788e-02\n",
      "   7.7435069e-02 -5.4266773e-02  7.4835859e-02 -2.7254235e-02\n",
      "   7.8199305e-02 -2.4382040e-02  1.5154637e-02  5.2757360e-02\n",
      "  -5.1789571e-02 -2.0522142e-02  1.8788723e-02 -1.3652921e-02\n",
      "   1.1162795e-03  5.7604589e-02 -7.6549388e-03 -3.4927223e-03\n",
      "  -2.8593633e-02  6.5219291e-03 -2.7138244e-02  4.5478206e-02\n",
      "  -5.9064329e-02  2.7465262e-03  1.2195241e-02 -7.5143687e-02]\n",
      " [ 7.2281502e-02  2.8301883e-02 -1.1361875e-02  7.1414031e-02\n",
      "  -3.5958383e-02 -8.3475634e-02  3.4645200e-05 -1.0341788e-02\n",
      "   7.7435069e-02 -5.4266773e-02  7.4835859e-02 -2.7254235e-02\n",
      "   7.8199305e-02 -2.4382040e-02  1.5154637e-02  5.2757360e-02\n",
      "  -5.1789571e-02 -2.0522142e-02  1.8788723e-02 -1.3652921e-02\n",
      "   1.1162795e-03  5.7604589e-02 -7.6549388e-03 -3.4927223e-03\n",
      "  -2.8593633e-02  6.5219291e-03 -2.7138244e-02  4.5478206e-02\n",
      "  -5.9064329e-02  2.7465262e-03  1.2195241e-02 -7.5143687e-02]], shape=(2, 32), dtype=float32)\n"
     ]
    }
   ],
   "source": [
    "linear_layer = Linear(input_dim=2)\n",
    "y = linear_layer(tf.ones((2, 2)))\n",
    "\n",
    "print(\"Output:\", y)"
   ]
  },
  {
   "cell_type": "markdown",
   "metadata": {},
   "source": [
    "Layers can have non-trainable weights as well. Set `trainable` to False for such weights.\n",
    "\n",
    "Such weights are ignored during backpropagation, when you are training the layer."
   ]
  },
  {
   "cell_type": "code",
   "execution_count": 8,
   "metadata": {
    "ExecuteTime": {
     "end_time": "2021-02-09T16:55:38.727899Z",
     "start_time": "2021-02-09T16:55:38.725501Z"
    }
   },
   "outputs": [],
   "source": [
    "class ComputeSum(tf.keras.layers.Layer):\n",
    "    def __init__(self, input_dim=32):\n",
    "        super(ComputeSum, self).__init__()\n",
    "        self.total = self.add_weight(\n",
    "            shape=(input_dim,), initializer=tf.zeros_initializer(), trainable=False\n",
    "        )\n",
    "    \n",
    "    def call(self, inputs):\n",
    "        self.total.assign_add(tf.reduce_sum(inputs, axis=0))\n",
    "        return self.total"
   ]
  },
  {
   "cell_type": "code",
   "execution_count": 9,
   "metadata": {
    "ExecuteTime": {
     "end_time": "2021-02-09T16:55:38.734993Z",
     "start_time": "2021-02-09T16:55:38.728765Z"
    }
   },
   "outputs": [
    {
     "data": {
      "text/plain": [
       "<__main__.ComputeSum at 0x7f719c2b5d30>"
      ]
     },
     "execution_count": 9,
     "metadata": {},
     "output_type": "execute_result"
    }
   ],
   "source": [
    "ComputeSum()"
   ]
  },
  {
   "cell_type": "code",
   "execution_count": 10,
   "metadata": {
    "ExecuteTime": {
     "end_time": "2021-02-09T16:55:38.744556Z",
     "start_time": "2021-02-09T16:55:38.736612Z"
    }
   },
   "outputs": [
    {
     "name": "stdout",
     "output_type": "stream",
     "text": [
      "Output: <tf.Variable 'Variable:0' shape=(2,) dtype=float32, numpy=array([2., 2.], dtype=float32)>\n"
     ]
    }
   ],
   "source": [
    "sum_layer = ComputeSum(input_dim=2)\n",
    "y = sum_layer(tf.ones((2, 2)))\n",
    "\n",
    "print(\"Output:\", y)"
   ]
  },
  {
   "cell_type": "markdown",
   "metadata": {},
   "source": [
    "Like trainable weights it is part of layer.weights, but it gets categorized as a non-trainable weight:"
   ]
  },
  {
   "cell_type": "code",
   "execution_count": 11,
   "metadata": {
    "ExecuteTime": {
     "end_time": "2021-02-09T16:55:38.747907Z",
     "start_time": "2021-02-09T16:55:38.745276Z"
    }
   },
   "outputs": [
    {
     "name": "stdout",
     "output_type": "stream",
     "text": [
      "Weights: [<tf.Variable 'Variable:0' shape=(2,) dtype=float32, numpy=array([2., 2.], dtype=float32)>]\n",
      "Non-trainable weights: [<tf.Variable 'Variable:0' shape=(2,) dtype=float32, numpy=array([2., 2.], dtype=float32)>]\n",
      "Trainable_weights: []\n"
     ]
    }
   ],
   "source": [
    "print(\"Weights:\", sum_layer.weights)\n",
    "print(\"Non-trainable weights:\", sum_layer.non_trainable_weights)\n",
    "print(\"Trainable_weights:\", sum_layer.trainable_weights)"
   ]
  },
  {
   "cell_type": "code",
   "execution_count": 12,
   "metadata": {
    "ExecuteTime": {
     "end_time": "2021-02-09T16:55:38.758242Z",
     "start_time": "2021-02-09T16:55:38.748547Z"
    }
   },
   "outputs": [
    {
     "name": "stdout",
     "output_type": "stream",
     "text": [
      "Weights: [<tf.Variable 'Variable:0' shape=(2, 32) dtype=float32, numpy=\n",
      "array([[ 0.02798979,  0.03203218,  0.00520792,  0.04720721,  0.01008133,\n",
      "        -0.04932186,  0.01481643,  0.01806558,  0.0388497 , -0.03178346,\n",
      "         0.04331701, -0.03406661,  0.02953893, -0.03907155,  0.00883643,\n",
      "         0.02043456, -0.04409995,  0.00569988, -0.02441934, -0.02273005,\n",
      "         0.01470264,  0.01518423,  0.02338674, -0.02884055, -0.01572325,\n",
      "         0.04448576,  0.00829986,  0.03743643, -0.0178116 , -0.03102672,\n",
      "         0.00658418, -0.02935393],\n",
      "       [ 0.04429171, -0.0037303 , -0.01656979,  0.02420682, -0.04603971,\n",
      "        -0.03415378, -0.01478178, -0.02840737,  0.03858537, -0.02248331,\n",
      "         0.03151885,  0.00681237,  0.04866037,  0.01468951,  0.00631821,\n",
      "         0.0323228 , -0.00768962, -0.02622203,  0.04320807,  0.00907713,\n",
      "        -0.01358636,  0.04242035, -0.03104168,  0.02534783, -0.01287038,\n",
      "        -0.03796383, -0.03543811,  0.00804178, -0.04125273,  0.03377325,\n",
      "         0.00561106, -0.04578976]], dtype=float32)>, <tf.Variable 'Variable:0' shape=(32,) dtype=float32, numpy=\n",
      "array([0., 0., 0., 0., 0., 0., 0., 0., 0., 0., 0., 0., 0., 0., 0., 0., 0.,\n",
      "       0., 0., 0., 0., 0., 0., 0., 0., 0., 0., 0., 0., 0., 0., 0.],\n",
      "      dtype=float32)>]\n",
      "Non-trainable weights: []\n",
      "Trainable_weights: [<tf.Variable 'Variable:0' shape=(2, 32) dtype=float32, numpy=\n",
      "array([[ 0.02798979,  0.03203218,  0.00520792,  0.04720721,  0.01008133,\n",
      "        -0.04932186,  0.01481643,  0.01806558,  0.0388497 , -0.03178346,\n",
      "         0.04331701, -0.03406661,  0.02953893, -0.03907155,  0.00883643,\n",
      "         0.02043456, -0.04409995,  0.00569988, -0.02441934, -0.02273005,\n",
      "         0.01470264,  0.01518423,  0.02338674, -0.02884055, -0.01572325,\n",
      "         0.04448576,  0.00829986,  0.03743643, -0.0178116 , -0.03102672,\n",
      "         0.00658418, -0.02935393],\n",
      "       [ 0.04429171, -0.0037303 , -0.01656979,  0.02420682, -0.04603971,\n",
      "        -0.03415378, -0.01478178, -0.02840737,  0.03858537, -0.02248331,\n",
      "         0.03151885,  0.00681237,  0.04866037,  0.01468951,  0.00631821,\n",
      "         0.0323228 , -0.00768962, -0.02622203,  0.04320807,  0.00907713,\n",
      "        -0.01358636,  0.04242035, -0.03104168,  0.02534783, -0.01287038,\n",
      "        -0.03796383, -0.03543811,  0.00804178, -0.04125273,  0.03377325,\n",
      "         0.00561106, -0.04578976]], dtype=float32)>, <tf.Variable 'Variable:0' shape=(32,) dtype=float32, numpy=\n",
      "array([0., 0., 0., 0., 0., 0., 0., 0., 0., 0., 0., 0., 0., 0., 0., 0., 0.,\n",
      "       0., 0., 0., 0., 0., 0., 0., 0., 0., 0., 0., 0., 0., 0., 0.],\n",
      "      dtype=float32)>]\n"
     ]
    }
   ],
   "source": [
    "print(\"Weights:\", linear_layer.weights)\n",
    "print(\"Non-trainable weights:\", linear_layer.non_trainable_weights)\n",
    "print(\"Trainable_weights:\", linear_layer.trainable_weights)"
   ]
  },
  {
   "cell_type": "markdown",
   "metadata": {},
   "source": [
    "In many cases, you may not know in advance the size of your inputs, and you would like to lazily create weights when that value becomes known, some time after instantiating the layer.\n",
    "\n",
    "Use `build(self, inputs_shape)` method in such scenarios."
   ]
  },
  {
   "cell_type": "code",
   "execution_count": 13,
   "metadata": {
    "ExecuteTime": {
     "end_time": "2021-02-09T16:55:38.762655Z",
     "start_time": "2021-02-09T16:55:38.759337Z"
    }
   },
   "outputs": [],
   "source": [
    "class Linear(tf.keras.layers.Layer):\n",
    "    def __init__(self, units=32):\n",
    "        super(Linear, self).__init__()\n",
    "        self.units = units\n",
    "\n",
    "    def build(self, input_shape):\n",
    "        # Initialize weights here rather than in __init__\n",
    "        self.w = self.add_weight(\n",
    "            shape=(input_shape[-1], self.units),\n",
    "            initializer=\"random_uniform\",\n",
    "            trainable=True,\n",
    "        )\n",
    "        self.b = self.add_weight(\n",
    "            shape=(self.units,), initializer=\"random_uniform\", trainable=False\n",
    "        )\n",
    "\n",
    "    def call(self, inputs):\n",
    "        return tf.matmul(inputs, self.w) + self.b"
   ]
  },
  {
   "cell_type": "code",
   "execution_count": 14,
   "metadata": {
    "ExecuteTime": {
     "end_time": "2021-02-09T16:55:38.768360Z",
     "start_time": "2021-02-09T16:55:38.763307Z"
    }
   },
   "outputs": [
    {
     "data": {
      "text/plain": [
       "<__main__.Linear at 0x7f7127e99070>"
      ]
     },
     "execution_count": 14,
     "metadata": {},
     "output_type": "execute_result"
    }
   ],
   "source": [
    "Linear()"
   ]
  },
  {
   "cell_type": "markdown",
   "metadata": {},
   "source": [
    "The __call__() method of your layer will automatically run build the first time it is called."
   ]
  },
  {
   "cell_type": "code",
   "execution_count": 15,
   "metadata": {
    "ExecuteTime": {
     "end_time": "2021-02-09T16:55:38.778885Z",
     "start_time": "2021-02-09T16:55:38.769031Z"
    }
   },
   "outputs": [
    {
     "name": "stdout",
     "output_type": "stream",
     "text": [
      "tf.Tensor(\n",
      "[[ 0.04997818  0.10885429  0.09778702 ... -0.08879324 -0.0251091\n",
      "   0.03213795]\n",
      " [ 0.04997818  0.10885429  0.09778702 ... -0.08879324 -0.0251091\n",
      "   0.03213795]\n",
      " [ 0.04997818  0.10885429  0.09778702 ... -0.08879324 -0.0251091\n",
      "   0.03213795]\n",
      " ...\n",
      " [ 0.04997818  0.10885429  0.09778702 ... -0.08879324 -0.0251091\n",
      "   0.03213795]\n",
      " [ 0.04997818  0.10885429  0.09778702 ... -0.08879324 -0.0251091\n",
      "   0.03213795]\n",
      " [ 0.04997818  0.10885429  0.09778702 ... -0.08879324 -0.0251091\n",
      "   0.03213795]], shape=(100, 32), dtype=float32)\n"
     ]
    }
   ],
   "source": [
    "# At instantiation, we don't know on what inputs this is going to get called\n",
    "linear_layer = Linear(units=32)\n",
    "\n",
    "# The layer's weights are created dynamically the first time the layer is called\n",
    "y = linear_layer(tf.ones((100, 10)))\n",
    "\n",
    "print(y)"
   ]
  },
  {
   "cell_type": "markdown",
   "metadata": {},
   "source": [
    "Layers are recursively composable:\n",
    "\n",
    "- If you assign a Layer instance as attribute of another Layer, the outer layer will start tracking the weights of the inner layer.\n",
    "\n",
    "We recommend creating such sublayers in the __init__() method (since the sublayers will typically have a build method, they will be built when the outer layer gets built)."
   ]
  },
  {
   "cell_type": "code",
   "execution_count": 16,
   "metadata": {
    "ExecuteTime": {
     "end_time": "2021-02-09T16:55:38.783166Z",
     "start_time": "2021-02-09T16:55:38.779963Z"
    }
   },
   "outputs": [],
   "source": [
    "class MLPBlock(tf.keras.layers.Layer):\n",
    "    def __init__(self):\n",
    "        super(MLPBlock, self).__init__()\n",
    "        self.linear_1 = Linear(32)\n",
    "        self.linear_2 = Linear(32)\n",
    "        self.linear_3 = Linear(1)\n",
    "\n",
    "    def call(self, inputs):\n",
    "        x = self.linear_1(inputs)\n",
    "        x = tf.nn.relu(x)\n",
    "        x = self.linear_2(x)\n",
    "        x = tf.nn.relu(x)\n",
    "        y = self.linear_3(x)\n",
    "        return y"
   ]
  },
  {
   "cell_type": "code",
   "execution_count": 17,
   "metadata": {
    "ExecuteTime": {
     "end_time": "2021-02-09T16:55:38.798560Z",
     "start_time": "2021-02-09T16:55:38.784185Z"
    },
    "scrolled": true
   },
   "outputs": [
    {
     "name": "stdout",
     "output_type": "stream",
     "text": [
      "Output: tf.Tensor(\n",
      "[[-0.02349304]\n",
      " [-0.02349304]\n",
      " [-0.02349304]\n",
      " [-0.02349304]\n",
      " [-0.02349304]\n",
      " [-0.02349304]\n",
      " [-0.02349304]\n",
      " [-0.02349304]\n",
      " [-0.02349304]\n",
      " [-0.02349304]\n",
      " [-0.02349304]\n",
      " [-0.02349304]\n",
      " [-0.02349304]\n",
      " [-0.02349304]\n",
      " [-0.02349304]\n",
      " [-0.02349304]\n",
      " [-0.02349304]\n",
      " [-0.02349304]\n",
      " [-0.02349304]\n",
      " [-0.02349304]\n",
      " [-0.02349304]\n",
      " [-0.02349304]\n",
      " [-0.02349304]\n",
      " [-0.02349304]\n",
      " [-0.02349304]\n",
      " [-0.02349304]\n",
      " [-0.02349304]\n",
      " [-0.02349304]\n",
      " [-0.02349304]\n",
      " [-0.02349304]\n",
      " [-0.02349304]\n",
      " [-0.02349304]\n",
      " [-0.02349304]\n",
      " [-0.02349304]\n",
      " [-0.02349304]\n",
      " [-0.02349304]\n",
      " [-0.02349304]\n",
      " [-0.02349304]\n",
      " [-0.02349304]\n",
      " [-0.02349304]\n",
      " [-0.02349304]\n",
      " [-0.02349304]\n",
      " [-0.02349304]\n",
      " [-0.02349304]\n",
      " [-0.02349304]\n",
      " [-0.02349304]\n",
      " [-0.02349304]\n",
      " [-0.02349304]\n",
      " [-0.02349304]\n",
      " [-0.02349304]\n",
      " [-0.02349304]\n",
      " [-0.02349304]\n",
      " [-0.02349304]\n",
      " [-0.02349304]\n",
      " [-0.02349304]\n",
      " [-0.02349304]\n",
      " [-0.02349304]\n",
      " [-0.02349304]\n",
      " [-0.02349304]\n",
      " [-0.02349304]\n",
      " [-0.02349304]\n",
      " [-0.02349304]\n",
      " [-0.02349304]\n",
      " [-0.02349304]\n",
      " [-0.02349304]\n",
      " [-0.02349304]\n",
      " [-0.02349304]\n",
      " [-0.02349304]\n",
      " [-0.02349304]\n",
      " [-0.02349304]\n",
      " [-0.02349304]\n",
      " [-0.02349304]\n",
      " [-0.02349304]\n",
      " [-0.02349304]\n",
      " [-0.02349304]\n",
      " [-0.02349304]\n",
      " [-0.02349304]\n",
      " [-0.02349304]\n",
      " [-0.02349304]\n",
      " [-0.02349304]\n",
      " [-0.02349304]\n",
      " [-0.02349304]\n",
      " [-0.02349304]\n",
      " [-0.02349304]\n",
      " [-0.02349304]\n",
      " [-0.02349304]\n",
      " [-0.02349304]\n",
      " [-0.02349304]\n",
      " [-0.02349304]\n",
      " [-0.02349304]\n",
      " [-0.02349304]\n",
      " [-0.02349304]\n",
      " [-0.02349304]\n",
      " [-0.02349304]\n",
      " [-0.02349304]\n",
      " [-0.02349304]\n",
      " [-0.02349304]\n",
      " [-0.02349304]\n",
      " [-0.02349304]\n",
      " [-0.02349304]], shape=(100, 1), dtype=float32)\n",
      "Weights: [<tf.Variable 'mlp_block/linear_6/Variable:0' shape=(64, 32) dtype=float32, numpy=\n",
      "array([[ 0.01922658,  0.01867517,  0.02234454, ..., -0.00642005,\n",
      "         0.03088957, -0.01632864],\n",
      "       [ 0.02518861, -0.03081944, -0.02808627, ...,  0.00540723,\n",
      "         0.02130676,  0.02697231],\n",
      "       [ 0.0347512 ,  0.01453198,  0.02928102, ...,  0.03234128,\n",
      "         0.01070645,  0.00988144],\n",
      "       ...,\n",
      "       [ 0.04624439, -0.02589159, -0.04257046, ...,  0.00252211,\n",
      "         0.0238224 , -0.00448357],\n",
      "       [ 0.04575402,  0.01796105,  0.02392874, ..., -0.00080423,\n",
      "        -0.04815033, -0.01978761],\n",
      "       [-0.01920743, -0.04815158, -0.00623015, ...,  0.01339153,\n",
      "        -0.02866272, -0.03763969]], dtype=float32)>, <tf.Variable 'mlp_block/linear_7/Variable:0' shape=(32, 32) dtype=float32, numpy=\n",
      "array([[ 0.03958016, -0.03273138, -0.02376359, ..., -0.0403135 ,\n",
      "         0.00323646,  0.03997618],\n",
      "       [-0.00466653,  0.0080812 ,  0.03033492, ..., -0.00936412,\n",
      "         0.00536896, -0.00512863],\n",
      "       [ 0.00283836, -0.03968865,  0.03042651, ..., -0.00894848,\n",
      "        -0.02362489, -0.029124  ],\n",
      "       ...,\n",
      "       [ 0.03771201, -0.03843162, -0.04205625, ..., -0.00494939,\n",
      "         0.01879783,  0.02339097],\n",
      "       [ 0.0443594 , -0.03979202,  0.0087418 , ..., -0.01571912,\n",
      "        -0.00557249, -0.04486722],\n",
      "       [-0.04214836, -0.01978486, -0.01595459, ..., -0.00854176,\n",
      "        -0.04639125,  0.03706506]], dtype=float32)>, <tf.Variable 'mlp_block/linear_8/Variable:0' shape=(32, 1) dtype=float32, numpy=\n",
      "array([[-0.04401484],\n",
      "       [-0.01171651],\n",
      "       [-0.01231892],\n",
      "       [ 0.04745236],\n",
      "       [ 0.03723456],\n",
      "       [ 0.01555834],\n",
      "       [ 0.03961933],\n",
      "       [ 0.00074259],\n",
      "       [-0.02565943],\n",
      "       [ 0.01044731],\n",
      "       [ 0.03021573],\n",
      "       [ 0.04343375],\n",
      "       [-0.04139242],\n",
      "       [ 0.005168  ],\n",
      "       [-0.0363832 ],\n",
      "       [ 0.04807495],\n",
      "       [-0.01649693],\n",
      "       [ 0.04711899],\n",
      "       [-0.00399004],\n",
      "       [ 0.00940587],\n",
      "       [-0.04588046],\n",
      "       [ 0.04922817],\n",
      "       [-0.04561297],\n",
      "       [-0.03609394],\n",
      "       [-0.00122382],\n",
      "       [-0.00431706],\n",
      "       [ 0.02280026],\n",
      "       [-0.00260866],\n",
      "       [ 0.03984461],\n",
      "       [ 0.02175803],\n",
      "       [ 0.03009767],\n",
      "       [-0.01761713]], dtype=float32)>, <tf.Variable 'mlp_block/linear_6/Variable:0' shape=(32,) dtype=float32, numpy=\n",
      "array([ 0.01654745, -0.01667851,  0.00257071,  0.02870054,  0.02615782,\n",
      "        0.04128404,  0.04005716, -0.02779078, -0.03165453,  0.01846594,\n",
      "       -0.00693551,  0.00922908,  0.03609282,  0.04377091,  0.0098824 ,\n",
      "        0.00768051,  0.03240744,  0.02553076, -0.0260875 ,  0.00798515,\n",
      "        0.00279353, -0.02394215,  0.04174623,  0.03302603,  0.02062893,\n",
      "       -0.01085072, -0.02129089, -0.01823806, -0.00982938,  0.04463309,\n",
      "       -0.03754898, -0.00184096], dtype=float32)>, <tf.Variable 'mlp_block/linear_7/Variable:0' shape=(32,) dtype=float32, numpy=\n",
      "array([ 0.03909297, -0.02039713, -0.0033227 ,  0.00419889, -0.02308954,\n",
      "       -0.02619562,  0.04837257,  0.03960979,  0.00958121,  0.00843542,\n",
      "        0.01165947,  0.04135865,  0.02755055, -0.0197132 ,  0.04119146,\n",
      "        0.03760617,  0.0458143 ,  0.0014649 ,  0.03427808,  0.04795795,\n",
      "        0.00470682,  0.01475588, -0.00262531,  0.03074286, -0.00524434,\n",
      "       -0.04311515,  0.03002584,  0.00705309,  0.03511817,  0.04964236,\n",
      "       -0.02046586, -0.00514736], dtype=float32)>, <tf.Variable 'mlp_block/linear_8/Variable:0' shape=(1,) dtype=float32, numpy=array([-0.01544764], dtype=float32)>]\n"
     ]
    }
   ],
   "source": [
    "perceptron = MLPBlock()\n",
    "y = perceptron(tf.ones(shape=(100, 64)))\n",
    "\n",
    "print(\"Output:\", y)\n",
    "print(\"Weights:\", perceptron.weights)"
   ]
  },
  {
   "cell_type": "markdown",
   "metadata": {},
   "source": [
    "Layers developed in such fashion (via subclassing) are not serializable.\n",
    "\n",
    "If you need your custom layers to be serializable, you can optionally implement a `get_config()` method."
   ]
  },
  {
   "cell_type": "code",
   "execution_count": 18,
   "metadata": {
    "ExecuteTime": {
     "end_time": "2021-02-09T16:55:38.802147Z",
     "start_time": "2021-02-09T16:55:38.799264Z"
    }
   },
   "outputs": [],
   "source": [
    "class Linear(tf.keras.layers.Layer):\n",
    "    def __init__(self, units=32, **kwargs):\n",
    "        super(Linear, self).__init__(**kwargs)\n",
    "        self.units = units\n",
    "\n",
    "    def build(self, input_shape):\n",
    "        self.w = self.add_weight(\n",
    "            shape=(input_shape[-1], self.units),\n",
    "            initializer=\"random_normal\",\n",
    "            trainable=True,\n",
    "        )\n",
    "        self.b = self.add_weight(\n",
    "            shape=(self.units,), initializer=\"random_normal\", trainable=True\n",
    "        )\n",
    "\n",
    "    def call(self, inputs):\n",
    "        return tf.matmul(inputs, self.w) + self.b\n",
    "\n",
    "    def get_config(self):\n",
    "        config = super(Linear, self).get_config()\n",
    "        config.update({\"units\": self.units})\n",
    "        return config"
   ]
  },
  {
   "cell_type": "code",
   "execution_count": 19,
   "metadata": {
    "ExecuteTime": {
     "end_time": "2021-02-09T16:55:38.810688Z",
     "start_time": "2021-02-09T16:55:38.802800Z"
    }
   },
   "outputs": [
    {
     "name": "stdout",
     "output_type": "stream",
     "text": [
      "Layers: <__main__.Linear object at 0x7f712454b5e0>\n",
      "Config: {'name': 'linear_9', 'trainable': True, 'dtype': 'float32', 'units': 64}\n",
      "New Layer from config: <__main__.Linear object at 0x7f7127e99730>\n"
     ]
    }
   ],
   "source": [
    "layer = Linear(64)\n",
    "print(\"Layers:\", layer)\n",
    "\n",
    "config = layer.get_config()\n",
    "print(\"Config:\", config)\n",
    "\n",
    "new_layer = Linear.from_config(config)\n",
    "print(\"New Layer from config:\", new_layer)"
   ]
  },
  {
   "cell_type": "markdown",
   "metadata": {},
   "source": [
    "### Differently Behaving Layers"
   ]
  },
  {
   "cell_type": "markdown",
   "metadata": {},
   "source": [
    "Some layers, in particular the `BatchNormalization` layer and the `Dropout` layer, have different behaviors during training and inference.\n",
    "\n",
    "For such layers, it is standard practice to expose a `training` (boolean) argument in the `call()` method."
   ]
  },
  {
   "cell_type": "code",
   "execution_count": 20,
   "metadata": {
    "ExecuteTime": {
     "end_time": "2021-02-09T16:55:38.815447Z",
     "start_time": "2021-02-09T16:55:38.811693Z"
    }
   },
   "outputs": [],
   "source": [
    "# Sample dropout wrapper\n",
    "class CustomDropout(tf.keras.layers.Layer):\n",
    "    def __init__(self, rate, **kwargs):\n",
    "        super(CustomDropout, self).__init__(**kwargs)\n",
    "        self.rate = rate\n",
    "\n",
    "    def call(self, inputs, training=None):\n",
    "        if training:\n",
    "            return tf.nn.dropout(inputs, rate=self.rate)\n",
    "        return inputs"
   ]
  },
  {
   "cell_type": "code",
   "execution_count": 21,
   "metadata": {
    "ExecuteTime": {
     "end_time": "2021-02-09T16:55:38.820662Z",
     "start_time": "2021-02-09T16:55:38.816450Z"
    }
   },
   "outputs": [],
   "source": [
    "class MLPBlock(tf.keras.layers.Layer):\n",
    "    def __init__(self):\n",
    "        super(MLPBlock, self).__init__()\n",
    "        self.linear_1 = Linear(32)\n",
    "        self.linear_2 = Linear(32)\n",
    "        self.linear_3 = Linear(1)\n",
    "        self.dp = CustomDropout(rate=0.2)\n",
    "\n",
    "    def call(self, inputs):\n",
    "        x = self.linear_1(inputs)\n",
    "        x = tf.nn.relu(x)\n",
    "        x = self.linear_2(x)\n",
    "        x = tf.nn.relu(x)\n",
    "        x = self.dp(x)\n",
    "        y = self.linear_3(x)\n",
    "        return y"
   ]
  },
  {
   "cell_type": "code",
   "execution_count": 22,
   "metadata": {
    "ExecuteTime": {
     "end_time": "2021-02-09T16:55:38.835867Z",
     "start_time": "2021-02-09T16:55:38.821684Z"
    },
    "scrolled": true
   },
   "outputs": [
    {
     "name": "stdout",
     "output_type": "stream",
     "text": [
      "Weights: [<tf.Variable 'mlp_block_1/linear_10/Variable:0' shape=(64, 32) dtype=float32, numpy=\n",
      "array([[-0.02030033,  0.00489099,  0.04979159, ...,  0.00241364,\n",
      "        -0.01420754,  0.01192173],\n",
      "       [ 0.07205828,  0.02961976,  0.01500473, ..., -0.00526279,\n",
      "        -0.05345894, -0.03853558],\n",
      "       [ 0.02431008,  0.00453468, -0.03738853, ..., -0.00299568,\n",
      "        -0.03084896,  0.02869447],\n",
      "       ...,\n",
      "       [ 0.00225633,  0.03113948,  0.00864202, ...,  0.04274569,\n",
      "         0.02017399,  0.00202116],\n",
      "       [ 0.08807379,  0.04904206, -0.02548023, ...,  0.03532203,\n",
      "         0.00554532, -0.10428514],\n",
      "       [ 0.03652779, -0.02834969, -0.04760692, ...,  0.03837006,\n",
      "        -0.03646067, -0.06823771]], dtype=float32)>, <tf.Variable 'mlp_block_1/linear_10/Variable:0' shape=(32,) dtype=float32, numpy=\n",
      "array([-0.0288556 , -0.05529082,  0.10748927, -0.07141435,  0.02683858,\n",
      "        0.06418931, -0.00532317, -0.0473565 ,  0.03618989, -0.00610597,\n",
      "       -0.03847222,  0.00894331,  0.07503864,  0.03534589, -0.09950432,\n",
      "       -0.01559554, -0.04658998,  0.03339907,  0.07907246, -0.00181674,\n",
      "       -0.07089955, -0.00833318,  0.00383066,  0.0199    , -0.01561448,\n",
      "       -0.07491321,  0.11327375, -0.04465272, -0.0433352 ,  0.01557851,\n",
      "        0.05356892, -0.01741418], dtype=float32)>, <tf.Variable 'mlp_block_1/linear_11/Variable:0' shape=(32, 32) dtype=float32, numpy=\n",
      "array([[-0.02078228, -0.02622599,  0.01954305, ...,  0.00433786,\n",
      "         0.00600342,  0.04540046],\n",
      "       [ 0.02326405, -0.00511661, -0.03690827, ...,  0.00965885,\n",
      "        -0.10996377,  0.03722751],\n",
      "       [ 0.04419746, -0.0529723 ,  0.01011201, ..., -0.00585392,\n",
      "         0.02823413,  0.04350905],\n",
      "       ...,\n",
      "       [ 0.00254069, -0.01109221, -0.06763975, ..., -0.00024014,\n",
      "        -0.05497158, -0.05736665],\n",
      "       [-0.06991226, -0.04530134, -0.05170413, ..., -0.0353245 ,\n",
      "        -0.00289299, -0.01736527],\n",
      "       [-0.07242783, -0.02604314,  0.08420262, ...,  0.01616002,\n",
      "        -0.04949242, -0.00669757]], dtype=float32)>, <tf.Variable 'mlp_block_1/linear_11/Variable:0' shape=(32,) dtype=float32, numpy=\n",
      "array([ 0.00631621,  0.03548179,  0.01297542, -0.01385033,  0.03553926,\n",
      "        0.03708434,  0.00365673, -0.0127868 ,  0.02501844, -0.07487793,\n",
      "        0.05825034, -0.00855146, -0.00697327, -0.01271023,  0.07958944,\n",
      "       -0.050448  ,  0.00825857,  0.05633686,  0.05076988,  0.03047481,\n",
      "       -0.02055595,  0.01634459, -0.05496508, -0.07730176, -0.08156666,\n",
      "        0.02168893,  0.08040234,  0.00670263,  0.00264431,  0.00203334,\n",
      "       -0.03899763, -0.02952239], dtype=float32)>, <tf.Variable 'mlp_block_1/linear_12/Variable:0' shape=(32, 1) dtype=float32, numpy=\n",
      "array([[ 0.01707423],\n",
      "       [-0.10160326],\n",
      "       [ 0.0273676 ],\n",
      "       [-0.00506752],\n",
      "       [ 0.02903069],\n",
      "       [-0.07409703],\n",
      "       [-0.05794883],\n",
      "       [-0.03395218],\n",
      "       [ 0.01481602],\n",
      "       [-0.01088823],\n",
      "       [-0.01747002],\n",
      "       [-0.07961281],\n",
      "       [-0.04024054],\n",
      "       [-0.05755877],\n",
      "       [-0.15650854],\n",
      "       [ 0.0144945 ],\n",
      "       [ 0.04564697],\n",
      "       [-0.01224652],\n",
      "       [ 0.06410901],\n",
      "       [-0.03148478],\n",
      "       [ 0.0233952 ],\n",
      "       [ 0.05858591],\n",
      "       [ 0.03229437],\n",
      "       [ 0.05489842],\n",
      "       [ 0.01714397],\n",
      "       [-0.05978001],\n",
      "       [-0.01201286],\n",
      "       [ 0.02064963],\n",
      "       [ 0.02279519],\n",
      "       [ 0.05428002],\n",
      "       [ 0.01386439],\n",
      "       [ 0.02628637]], dtype=float32)>, <tf.Variable 'mlp_block_1/linear_12/Variable:0' shape=(1,) dtype=float32, numpy=array([-0.05069569], dtype=float32)>]\n"
     ]
    }
   ],
   "source": [
    "perceptron = MLPBlock()\n",
    "y = perceptron(tf.ones(shape=(100, 64)))\n",
    "\n",
    "print(\"Weights:\", perceptron.weights)"
   ]
  },
  {
   "cell_type": "markdown",
   "metadata": {},
   "source": [
    "The other privileged argument supported by call() is the `mask_zero` argument.\n",
    "\n",
    "TF automatically passes the correct boolean in suhch cases to __call__() for layers that support it."
   ]
  },
  {
   "cell_type": "markdown",
   "metadata": {},
   "source": [
    "## The Model Class"
   ]
  },
  {
   "cell_type": "markdown",
   "metadata": {},
   "source": [
    "The Model class has the same API as Layer, with the following differences:\n",
    "\n",
    "- It exposes built-in training, evaluation, and prediction loops (model.fit(), model.evaluate(), model.predict()).\n",
    "- It exposes the list of its inner layers, via the model.layers property.\n",
    "- It exposes saving and serialization APIs (save(), save_weights()...)\n",
    "\n",
    "In general, you will use the Layer class to define inner computation blocks, and will use the Model class to define the outer model -- the object you will train."
   ]
  },
  {
   "cell_type": "code",
   "execution_count": 23,
   "metadata": {
    "ExecuteTime": {
     "end_time": "2021-02-09T17:01:27.152144Z",
     "start_time": "2021-02-09T17:01:27.148007Z"
    }
   },
   "outputs": [],
   "source": [
    "class SampleModel(tf.keras.Model):\n",
    "    \n",
    "    def __init__(self, num_classes):\n",
    "        super(SampleModel, self).__init__()\n",
    "        self.b1 = MLPBlock()\n",
    "        self.b2 = MLPBlock()\n",
    "        self.classifier = tf.keras.layers.Dense(num_classes)\n",
    "    \n",
    "    def call(self, model_input):\n",
    "        x = self.b1(model_input)\n",
    "        x = self.b2(x)\n",
    "        return self.classifier(x)"
   ]
  },
  {
   "cell_type": "code",
   "execution_count": 24,
   "metadata": {
    "ExecuteTime": {
     "end_time": "2021-02-09T17:01:27.489679Z",
     "start_time": "2021-02-09T17:01:27.470538Z"
    }
   },
   "outputs": [
    {
     "name": "stdout",
     "output_type": "stream",
     "text": [
      "<__main__.SampleModel object at 0x7f7127e99700>\n"
     ]
    }
   ],
   "source": [
    "model = SampleModel(num_classes=2)\n",
    "print(model)"
   ]
  },
  {
   "cell_type": "markdown",
   "metadata": {},
   "source": [
    "## Putting it all together: an end-to-end example"
   ]
  },
  {
   "cell_type": "markdown",
   "metadata": {},
   "source": [
    "- A Layer encapsulate a state (created in __init__() or build()) and some computation (defined in call()).\n",
    "- Layers can be recursively nested to create new, bigger computation blocks.\n",
    "- Layers can create and track losses (typically regularization losses) as well as metrics, via add_loss() and add_metric()\n",
    "- The outer container, the thing you want to train, is a Model. A Model is just like a Layer, but with added training and serialization utilities."
   ]
  },
  {
   "cell_type": "code",
   "execution_count": 25,
   "metadata": {
    "ExecuteTime": {
     "end_time": "2021-02-09T17:02:38.785516Z",
     "start_time": "2021-02-09T17:02:38.776697Z"
    }
   },
   "outputs": [],
   "source": [
    "from tensorflow.keras import layers\n",
    "\n",
    "\n",
    "class Sampling(layers.Layer):\n",
    "    \"\"\"Uses (z_mean, z_log_var) to sample z, the vector encoding a digit.\"\"\"\n",
    "\n",
    "    def call(self, inputs):\n",
    "        z_mean, z_log_var = inputs\n",
    "        batch = tf.shape(z_mean)[0]\n",
    "        dim = tf.shape(z_mean)[1]\n",
    "        epsilon = tf.keras.backend.random_normal(shape=(batch, dim))\n",
    "        return z_mean + tf.exp(0.5 * z_log_var) * epsilon\n",
    "\n",
    "\n",
    "class Encoder(layers.Layer):\n",
    "    \"\"\"Maps MNIST digits to a triplet (z_mean, z_log_var, z).\"\"\"\n",
    "\n",
    "    def __init__(self, latent_dim=32, intermediate_dim=64, name=\"encoder\", **kwargs):\n",
    "        super(Encoder, self).__init__(name=name, **kwargs)\n",
    "        self.dense_proj = layers.Dense(intermediate_dim, activation=\"relu\")\n",
    "        self.dense_mean = layers.Dense(latent_dim)\n",
    "        self.dense_log_var = layers.Dense(latent_dim)\n",
    "        self.sampling = Sampling()\n",
    "\n",
    "    def call(self, inputs):\n",
    "        x = self.dense_proj(inputs)\n",
    "        z_mean = self.dense_mean(x)\n",
    "        z_log_var = self.dense_log_var(x)\n",
    "        z = self.sampling((z_mean, z_log_var))\n",
    "        return z_mean, z_log_var, z\n",
    "\n",
    "\n",
    "class Decoder(layers.Layer):\n",
    "    \"\"\"Converts z, the encoded digit vector, back into a readable digit.\"\"\"\n",
    "\n",
    "    def __init__(self, original_dim, intermediate_dim=64, name=\"decoder\", **kwargs):\n",
    "        super(Decoder, self).__init__(name=name, **kwargs)\n",
    "        self.dense_proj = layers.Dense(intermediate_dim, activation=\"relu\")\n",
    "        self.dense_output = layers.Dense(original_dim, activation=\"sigmoid\")\n",
    "\n",
    "    def call(self, inputs):\n",
    "        x = self.dense_proj(inputs)\n",
    "        return self.dense_output(x)"
   ]
  },
  {
   "cell_type": "code",
   "execution_count": 26,
   "metadata": {
    "ExecuteTime": {
     "end_time": "2021-02-09T17:02:46.032512Z",
     "start_time": "2021-02-09T17:02:46.027387Z"
    }
   },
   "outputs": [],
   "source": [
    "class VariationalAutoEncoder(tf.keras.Model):\n",
    "    \"\"\"Combines the encoder and decoder into an end-to-end model for training.\"\"\"\n",
    "\n",
    "    def __init__(\n",
    "        self,\n",
    "        original_dim,\n",
    "        intermediate_dim=64,\n",
    "        latent_dim=32,\n",
    "        name=\"autoencoder\",\n",
    "        **kwargs\n",
    "    ):\n",
    "        super(VariationalAutoEncoder, self).__init__(name=name, **kwargs)\n",
    "        self.original_dim = original_dim\n",
    "        self.encoder = Encoder(latent_dim=latent_dim, intermediate_dim=intermediate_dim)\n",
    "        self.decoder = Decoder(original_dim, intermediate_dim=intermediate_dim)\n",
    "\n",
    "    def call(self, inputs):\n",
    "        z_mean, z_log_var, z = self.encoder(inputs)\n",
    "        reconstructed = self.decoder(z)\n",
    "        # Add KL divergence regularization loss.\n",
    "        kl_loss = -0.5 * tf.reduce_mean(\n",
    "            z_log_var - tf.square(z_mean) - tf.exp(z_log_var) + 1\n",
    "        )\n",
    "        self.add_loss(kl_loss)\n",
    "        return reconstructed"
   ]
  },
  {
   "cell_type": "code",
   "execution_count": 27,
   "metadata": {
    "ExecuteTime": {
     "end_time": "2021-02-09T17:03:52.781797Z",
     "start_time": "2021-02-09T17:03:41.874517Z"
    }
   },
   "outputs": [
    {
     "name": "stdout",
     "output_type": "stream",
     "text": [
      "Start of epoch 0\n",
      "step 0: mean loss = 0.3147\n",
      "step 100: mean loss = 0.1235\n",
      "step 200: mean loss = 0.0982\n",
      "step 300: mean loss = 0.0885\n",
      "step 400: mean loss = 0.0838\n",
      "step 500: mean loss = 0.0805\n",
      "step 600: mean loss = 0.0784\n",
      "step 700: mean loss = 0.0769\n",
      "step 800: mean loss = 0.0757\n",
      "step 900: mean loss = 0.0747\n",
      "Start of epoch 1\n",
      "step 0: mean loss = 0.0745\n",
      "step 100: mean loss = 0.0738\n",
      "step 200: mean loss = 0.0733\n",
      "step 300: mean loss = 0.0729\n",
      "step 400: mean loss = 0.0726\n",
      "step 500: mean loss = 0.0722\n",
      "step 600: mean loss = 0.0719\n",
      "step 700: mean loss = 0.0716\n",
      "step 800: mean loss = 0.0714\n",
      "step 900: mean loss = 0.0711\n"
     ]
    }
   ],
   "source": [
    "# Simple training loop on MNIST data\n",
    "original_dim = 784\n",
    "vae = VariationalAutoEncoder(original_dim, 64, 32)\n",
    "\n",
    "optimizer = tf.keras.optimizers.Adam(learning_rate=1e-3)\n",
    "mse_loss_fn = tf.keras.losses.MeanSquaredError()\n",
    "\n",
    "loss_metric = tf.keras.metrics.Mean()\n",
    "\n",
    "(x_train, _), _ = tf.keras.datasets.mnist.load_data()\n",
    "x_train = x_train.reshape(60000, 784).astype(\"float32\") / 255\n",
    "\n",
    "train_dataset = tf.data.Dataset.from_tensor_slices(x_train)\n",
    "train_dataset = train_dataset.shuffle(buffer_size=1024).batch(64)\n",
    "\n",
    "epochs = 2\n",
    "\n",
    "# Iterate over epochs.\n",
    "for epoch in range(epochs):\n",
    "    print(\"Start of epoch %d\" % (epoch,))\n",
    "\n",
    "    # Iterate over the batches of the dataset.\n",
    "    for step, x_batch_train in enumerate(train_dataset):\n",
    "        with tf.GradientTape() as tape:\n",
    "            reconstructed = vae(x_batch_train)\n",
    "            # Compute reconstruction loss\n",
    "            loss = mse_loss_fn(x_batch_train, reconstructed)\n",
    "            loss += sum(vae.losses)  # Add KLD regularization loss\n",
    "\n",
    "        grads = tape.gradient(loss, vae.trainable_weights)\n",
    "        optimizer.apply_gradients(zip(grads, vae.trainable_weights))\n",
    "\n",
    "        loss_metric(loss)\n",
    "\n",
    "        if step % 100 == 0:\n",
    "            print(\"step %d: mean loss = %.4f\" % (step, loss_metric.result()))"
   ]
  },
  {
   "cell_type": "markdown",
   "metadata": {},
   "source": [
    "Also, it can be trained using the built-in training loops like any other model."
   ]
  },
  {
   "cell_type": "code",
   "execution_count": 28,
   "metadata": {
    "ExecuteTime": {
     "end_time": "2021-02-09T17:04:36.686855Z",
     "start_time": "2021-02-09T17:04:33.367803Z"
    }
   },
   "outputs": [
    {
     "name": "stdout",
     "output_type": "stream",
     "text": [
      "Epoch 1/2\n",
      "938/938 [==============================] - 1s 2ms/step - loss: 0.0747\n",
      "Epoch 2/2\n",
      "938/938 [==============================] - 1s 1ms/step - loss: 0.0676\n"
     ]
    },
    {
     "data": {
      "text/plain": [
       "<tensorflow.python.keras.callbacks.History at 0x7f7124530940>"
      ]
     },
     "execution_count": 28,
     "metadata": {},
     "output_type": "execute_result"
    }
   ],
   "source": [
    "vae = VariationalAutoEncoder(784, 64, 32)\n",
    "\n",
    "optimizer = tf.keras.optimizers.Adam(learning_rate=1e-3)\n",
    "\n",
    "vae.compile(optimizer, loss=tf.keras.losses.MeanSquaredError())\n",
    "vae.fit(x_train, x_train, epochs=2, batch_size=64)"
   ]
  },
  {
   "cell_type": "code",
   "execution_count": null,
   "metadata": {},
   "outputs": [],
   "source": []
  }
 ],
 "metadata": {
  "kernelspec": {
   "display_name": "Python [conda env:dl-env]",
   "language": "python",
   "name": "conda-env-dl-env-py"
  },
  "language_info": {
   "codemirror_mode": {
    "name": "ipython",
    "version": 3
   },
   "file_extension": ".py",
   "mimetype": "text/x-python",
   "name": "python",
   "nbconvert_exporter": "python",
   "pygments_lexer": "ipython3",
   "version": "3.8.8"
  },
  "toc": {
   "base_numbering": 1,
   "nav_menu": {},
   "number_sections": true,
   "sideBar": true,
   "skip_h1_title": false,
   "title_cell": "Table of Contents",
   "title_sidebar": "Contents",
   "toc_cell": false,
   "toc_position": {},
   "toc_section_display": true,
   "toc_window_display": false
  },
  "varInspector": {
   "cols": {
    "lenName": 16,
    "lenType": 16,
    "lenVar": 40
   },
   "kernels_config": {
    "python": {
     "delete_cmd_postfix": "",
     "delete_cmd_prefix": "del ",
     "library": "var_list.py",
     "varRefreshCmd": "print(var_dic_list())"
    },
    "r": {
     "delete_cmd_postfix": ") ",
     "delete_cmd_prefix": "rm(",
     "library": "var_list.r",
     "varRefreshCmd": "cat(var_dic_list()) "
    }
   },
   "types_to_exclude": [
    "module",
    "function",
    "builtin_function_or_method",
    "instance",
    "_Feature"
   ],
   "window_display": false
  }
 },
 "nbformat": 4,
 "nbformat_minor": 4
}
