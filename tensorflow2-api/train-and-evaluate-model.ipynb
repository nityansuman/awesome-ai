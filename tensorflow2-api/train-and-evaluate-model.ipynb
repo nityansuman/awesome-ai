{
 "cells": [
  {
   "cell_type": "markdown",
   "metadata": {},
   "source": [
    "# Train and Evaluate Model"
   ]
  },
  {
   "cell_type": "code",
   "execution_count": 1,
   "metadata": {
    "ExecuteTime": {
     "end_time": "2021-01-26T13:31:27.937562Z",
     "start_time": "2021-01-26T13:31:27.074079Z"
    }
   },
   "outputs": [
    {
     "data": {
      "text/plain": [
       "'2.3.0'"
      ]
     },
     "execution_count": 1,
     "metadata": {},
     "output_type": "execute_result"
    }
   ],
   "source": [
    "# Import packages\n",
    "import tensorflow as tf\n",
    "\n",
    "from sklearn.model_selection import train_test_split\n",
    "from tensorflow.keras import layers\n",
    "\n",
    "tf.__version__ # 2.x"
   ]
  },
  {
   "cell_type": "markdown",
   "metadata": {},
   "source": [
    "## Model"
   ]
  },
  {
   "cell_type": "code",
   "execution_count": 2,
   "metadata": {},
   "outputs": [
    {
     "name": "stdout",
     "output_type": "stream",
     "text": [
      "Model: \"sequential\"\n",
      "_________________________________________________________________\n",
      "Layer (type)                 Output Shape              Param #   \n",
      "=================================================================\n",
      "dense_1 (Dense)              (None, 64)                50240     \n",
      "_________________________________________________________________\n",
      "dense_2 (Dense)              (None, 64)                4160      \n",
      "_________________________________________________________________\n",
      "y (Dense)                    (None, 10)                650       \n",
      "=================================================================\n",
      "Total params: 55,050\n",
      "Trainable params: 55,050\n",
      "Non-trainable params: 0\n",
      "_________________________________________________________________\n"
     ]
    }
   ],
   "source": [
    "# Sequence model\n",
    "seq_model = tf.keras.Sequential()\n",
    "seq_model.add(tf.keras.Input(shape=(784,), name=\"input_x\"))\n",
    "seq_model.add(layers.Dense(64, activation=\"relu\", name=\"dense_1\"))\n",
    "seq_model.add(layers.Dense(64, activation=\"relu\", name=\"dense_2\"))\n",
    "seq_model.add(layers.Dense(10, activation=\"softmax\", name=\"y\"))\n",
    "\n",
    "# View\n",
    "seq_model.summary()"
   ]
  },
  {
   "cell_type": "code",
   "execution_count": 3,
   "metadata": {
    "ExecuteTime": {
     "end_time": "2021-01-26T13:31:28.454650Z",
     "start_time": "2021-01-26T13:31:27.938496Z"
    }
   },
   "outputs": [
    {
     "name": "stdout",
     "output_type": "stream",
     "text": [
      "Model: \"functional_1\"\n",
      "_________________________________________________________________\n",
      "Layer (type)                 Output Shape              Param #   \n",
      "=================================================================\n",
      "x (InputLayer)               [(None, 784)]             0         \n",
      "_________________________________________________________________\n",
      "dense_1 (Dense)              (None, 64)                50240     \n",
      "_________________________________________________________________\n",
      "dense_2 (Dense)              (None, 64)                4160      \n",
      "_________________________________________________________________\n",
      "y (Dense)                    (None, 10)                650       \n",
      "=================================================================\n",
      "Total params: 55,050\n",
      "Trainable params: 55,050\n",
      "Non-trainable params: 0\n",
      "_________________________________________________________________\n"
     ]
    }
   ],
   "source": [
    "# Functional model\n",
    "inputs = tf.keras.Input(shape=(784,), name=\"x\")\n",
    "x = layers.Dense(64, activation=\"relu\", name=\"dense_1\")(inputs)\n",
    "x = layers.Dense(64, activation=\"relu\", name=\"dense_2\")(x)\n",
    "y = layers.Dense(10, activation=\"softmax\", name=\"y\")(x)\n",
    "\n",
    "# Wrap layers into a model object\n",
    "func_model = tf.keras.Model(inputs=inputs, outputs=y)\n",
    "\n",
    "# View\n",
    "func_model.summary()"
   ]
  },
  {
   "cell_type": "code",
   "execution_count": 4,
   "metadata": {
    "ExecuteTime": {
     "end_time": "2021-01-26T13:31:28.534478Z",
     "start_time": "2021-01-26T13:31:28.455878Z"
    }
   },
   "outputs": [
    {
     "data": {
      "image/png": "[encoded data removed]",
      "text/plain": [
       "<IPython.core.display.Image object>"
      ]
     },
     "execution_count": 4,
     "metadata": {},
     "output_type": "execute_result"
    }
   ],
   "source": [
    "# Plot sequence model\n",
    "tf.keras.utils.plot_model(seq_model, \"/tmp/seq_model.png\", show_shapes=True, show_layer_names=True)"
   ]
  },
  {
   "cell_type": "code",
   "execution_count": 5,
   "metadata": {},
   "outputs": [
    {
     "data": {
      "image/png": "[encoded data removed]",
      "text/plain": [
       "<IPython.core.display.Image object>"
      ]
     },
     "execution_count": 5,
     "metadata": {},
     "output_type": "execute_result"
    }
   ],
   "source": [
    "# Plot functional model\n",
    "tf.keras.utils.plot_model(func_model, \"/tmp/func_model.png\", show_shapes=True, show_layer_names=True)"
   ]
  },
  {
   "cell_type": "markdown",
   "metadata": {},
   "source": [
    "## Train and Evaluate"
   ]
  },
  {
   "cell_type": "markdown",
   "metadata": {},
   "source": [
    "Typical end-to-end workflow consists of:\n",
    "\n",
    "- Training\n",
    "- Validation on a holdout set generated from the original training data\n",
    "- Evaluation on the test data\n",
    "\n",
    "We'll use very famous MNIST data to solve a digit image classification problem.\n",
    "Both models, sequence and functonal models can be used in a similar manner."
   ]
  },
  {
   "cell_type": "code",
   "execution_count": 6,
   "metadata": {
    "ExecuteTime": {
     "end_time": "2021-01-26T13:31:28.752686Z",
     "start_time": "2021-01-26T13:31:28.536115Z"
    }
   },
   "outputs": [
    {
     "name": "stdout",
     "output_type": "stream",
     "text": [
      "Train: (48000, 784) (48000,)\n",
      "Test: (10000, 784) (10000,)\n",
      "Validate: (12000, 784) (12000,)\n"
     ]
    }
   ],
   "source": [
    "# Load data into memory\n",
    "(x_train, y_train), (x_test, y_test) = tf.keras.datasets.mnist.load_data()\n",
    "\n",
    "# Reshape to a vector from matrix of 28*28 and normalize it\n",
    "x_train = x_train.reshape(60000, 784).astype(\"float32\") / 255\n",
    "y_train = y_train.astype(\"float32\")\n",
    "\n",
    "x_test = x_test.reshape(10000, 784).astype(\"float32\") / 255\n",
    "y_test = y_test.astype(\"float32\")\n",
    "\n",
    "x_train, x_val, y_train, y_val = train_test_split(x_train, y_train, test_size=0.2, random_state=2020)\n",
    "\n",
    "print(\"Train:\", x_train.shape, y_train.shape)\n",
    "print(\"Test:\", x_test.shape, y_test.shape)\n",
    "print(\"Validate:\", x_val.shape, y_val.shape)"
   ]
  },
  {
   "cell_type": "markdown",
   "metadata": {},
   "source": [
    "Specify the training configuration (optimizer, loss, metrics) using `compile()`"
   ]
  },
  {
   "cell_type": "code",
   "execution_count": 7,
   "metadata": {
    "ExecuteTime": {
     "end_time": "2021-01-26T13:31:28.966918Z",
     "start_time": "2021-01-26T13:31:28.949867Z"
    }
   },
   "outputs": [],
   "source": [
    "# Compile model\n",
    "seq_model.compile(\n",
    "    # Model optimizer\n",
    "    optimizer = tf.keras.optimizers.RMSprop(),\n",
    "    \n",
    "    # Model loss function\n",
    "    loss = tf.keras.losses.SparseCategoricalCrossentropy(),\n",
    "    \n",
    "    # Model performance metric\n",
    "    metrics = [tf.keras.metrics.SparseCategoricalAccuracy()],\n",
    ")"
   ]
  },
  {
   "cell_type": "code",
   "execution_count": 8,
   "metadata": {
    "ExecuteTime": {
     "end_time": "2021-01-26T13:31:35.948775Z",
     "start_time": "2021-01-26T13:31:28.967827Z"
    }
   },
   "outputs": [
    {
     "name": "stdout",
     "output_type": "stream",
     "text": [
      "Epoch 1/10\n",
      "750/750 [==============================] - 1s 2ms/step - loss: 0.3430 - sparse_categorical_accuracy: 0.9022 - val_loss: 0.2055 - val_sparse_categorical_accuracy: 0.9396\n",
      "Epoch 2/10\n",
      "750/750 [==============================] - 1s 2ms/step - loss: 0.1590 - sparse_categorical_accuracy: 0.9536 - val_loss: 0.1504 - val_sparse_categorical_accuracy: 0.9551\n",
      "Epoch 3/10\n",
      "750/750 [==============================] - 1s 1ms/step - loss: 0.1160 - sparse_categorical_accuracy: 0.9661 - val_loss: 0.1186 - val_sparse_categorical_accuracy: 0.9648\n",
      "Epoch 4/10\n",
      "750/750 [==============================] - 1s 1ms/step - loss: 0.0928 - sparse_categorical_accuracy: 0.9723 - val_loss: 0.1242 - val_sparse_categorical_accuracy: 0.9632\n",
      "Epoch 5/10\n",
      "750/750 [==============================] - 1s 1ms/step - loss: 0.0772 - sparse_categorical_accuracy: 0.9766 - val_loss: 0.1102 - val_sparse_categorical_accuracy: 0.9670\n",
      "Epoch 6/10\n",
      "750/750 [==============================] - 1s 1ms/step - loss: 0.0669 - sparse_categorical_accuracy: 0.9799 - val_loss: 0.1052 - val_sparse_categorical_accuracy: 0.9697\n",
      "Epoch 7/10\n",
      "750/750 [==============================] - 1s 1ms/step - loss: 0.0572 - sparse_categorical_accuracy: 0.9820 - val_loss: 0.1068 - val_sparse_categorical_accuracy: 0.9697\n",
      "Epoch 8/10\n",
      "750/750 [==============================] - 1s 1ms/step - loss: 0.0505 - sparse_categorical_accuracy: 0.9842 - val_loss: 0.1118 - val_sparse_categorical_accuracy: 0.9711\n",
      "Epoch 9/10\n",
      "750/750 [==============================] - 1s 1ms/step - loss: 0.0448 - sparse_categorical_accuracy: 0.9858 - val_loss: 0.1131 - val_sparse_categorical_accuracy: 0.9710\n",
      "Epoch 10/10\n",
      "750/750 [==============================] - 1s 1ms/step - loss: 0.0385 - sparse_categorical_accuracy: 0.9885 - val_loss: 0.1125 - val_sparse_categorical_accuracy: 0.9716\n"
     ]
    }
   ],
   "source": [
    "# Model training\n",
    "history = seq_model.fit(\n",
    "    x_train,\n",
    "    y_train,\n",
    "    batch_size=64,\n",
    "    epochs=10,\n",
    "    validation_data=(x_val, y_val),\n",
    ")"
   ]
  },
  {
   "cell_type": "markdown",
   "metadata": {},
   "source": [
    "Evaluate model on the test dataset using `evaluate()`"
   ]
  },
  {
   "cell_type": "code",
   "execution_count": 9,
   "metadata": {
    "ExecuteTime": {
     "end_time": "2021-01-26T13:31:36.090047Z",
     "start_time": "2021-01-26T13:31:35.954814Z"
    }
   },
   "outputs": [
    {
     "name": "stdout",
     "output_type": "stream",
     "text": [
      "79/79 [==============================] - 0s 957us/step - loss: 0.1034 - sparse_categorical_accuracy: 0.9715\n",
      "Test loss, Test acc: [0.10335808247327805, 0.9714999794960022]\n"
     ]
    }
   ],
   "source": [
    "results = seq_model.evaluate(x_test, y_test, batch_size=128)\n",
    "print(\"Test loss, Test acc:\", results)"
   ]
  },
  {
   "cell_type": "markdown",
   "metadata": {},
   "source": [
    "Generate predictions (probabilities) on test set using `predict()`"
   ]
  },
  {
   "cell_type": "code",
   "execution_count": 10,
   "metadata": {
    "ExecuteTime": {
     "end_time": "2021-01-26T13:31:36.287563Z",
     "start_time": "2021-01-26T13:31:36.091265Z"
    }
   },
   "outputs": [
    {
     "name": "stdout",
     "output_type": "stream",
     "text": [
      "Predictions: (10000, 10)\n",
      "First prediction: [4.40050635e-11 1.01672412e-11 5.39843334e-08 5.64973516e-06\n",
      " 4.36260050e-14 1.27848609e-09 1.12862789e-17 9.99993801e-01\n",
      " 1.08995355e-08 5.14923443e-07]\n"
     ]
    }
   ],
   "source": [
    "predictions = seq_model.predict(x_test)\n",
    "print(\"Predictions:\", predictions.shape)\n",
    "print(\"First prediction:\", predictions[0])"
   ]
  },
  {
   "cell_type": "code",
   "execution_count": null,
   "metadata": {},
   "outputs": [],
   "source": []
  }
 ],
 "metadata": {
  "kernelspec": {
   "display_name": "Python [conda env:dl-env]",
   "language": "python",
   "name": "conda-env-dl-env-py"
  },
  "language_info": {
   "codemirror_mode": {
    "name": "ipython",
    "version": 3
   },
   "file_extension": ".py",
   "mimetype": "text/x-python",
   "name": "python",
   "nbconvert_exporter": "python",
   "pygments_lexer": "ipython3",
   "version": "3.8.8"
  },
  "toc": {
   "base_numbering": 1,
   "nav_menu": {},
   "number_sections": true,
   "sideBar": true,
   "skip_h1_title": false,
   "title_cell": "Table of Contents",
   "title_sidebar": "Contents",
   "toc_cell": false,
   "toc_position": {},
   "toc_section_display": true,
   "toc_window_display": false
  },
  "varInspector": {
   "cols": {
    "lenName": 16,
    "lenType": 16,
    "lenVar": 40
   },
   "kernels_config": {
    "python": {
     "delete_cmd_postfix": "",
     "delete_cmd_prefix": "del ",
     "library": "var_list.py",
     "varRefreshCmd": "print(var_dic_list())"
    },
    "r": {
     "delete_cmd_postfix": ") ",
     "delete_cmd_prefix": "rm(",
     "library": "var_list.r",
     "varRefreshCmd": "cat(var_dic_list()) "
    }
   },
   "types_to_exclude": [
    "module",
    "function",
    "builtin_function_or_method",
    "instance",
    "_Feature"
   ],
   "window_display": false
  }
 },
 "nbformat": 4,
 "nbformat_minor": 4
}
