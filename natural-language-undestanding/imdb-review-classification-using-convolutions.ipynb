{
 "cells": [
  {
   "cell_type": "markdown",
   "metadata": {},
   "source": [
    "# Setup"
   ]
  },
  {
   "cell_type": "code",
   "execution_count": 1,
   "metadata": {
    "ExecuteTime": {
     "end_time": "2021-02-08T00:46:13.250219Z",
     "start_time": "2021-02-08T00:46:12.333890Z"
    }
   },
   "outputs": [
    {
     "data": {
      "text/plain": [
       "'2.3.0'"
      ]
     },
     "execution_count": 1,
     "metadata": {},
     "output_type": "execute_result"
    }
   ],
   "source": [
    "# Import packages\n",
    "import os\n",
    "import re\n",
    "import sys\n",
    "import json\n",
    "import string\n",
    "import numpy as np\n",
    "\n",
    "import tensorflow as tf\n",
    "import matplotlib.pyplot as plt\n",
    "import tensorflow_datasets as tfds\n",
    "\n",
    "from tensorflow.keras import layers\n",
    "from tensorflow.keras.layers.experimental.preprocessing import TextVectorization\n",
    "\n",
    "tf.__version__ # 2.x"
   ]
  },
  {
   "cell_type": "code",
   "execution_count": 2,
   "metadata": {},
   "outputs": [],
   "source": [
    "# Globals\n",
    "BUFFER_SIZE = 5000\n",
    "BUFFER_BATCH_SIZE = 64\n",
    "VOCAB_SIZE = 5000\n",
    "MAX_SEQUENCE_LENGTH = 512\n",
    "EMBEDDING_DIM = 128"
   ]
  },
  {
   "cell_type": "markdown",
   "metadata": {},
   "source": [
    "# Setup input pipeline"
   ]
  },
  {
   "cell_type": "code",
   "execution_count": 3,
   "metadata": {
    "ExecuteTime": {
     "end_time": "2021-02-08T00:46:14.237114Z",
     "start_time": "2021-02-08T00:46:13.251236Z"
    }
   },
   "outputs": [
    {
     "name": "stdout",
     "output_type": "stream",
     "text": [
      "(TensorSpec(shape=(), dtype=tf.string, name=None), TensorSpec(shape=(), dtype=tf.int64, name=None)) (TensorSpec(shape=(), dtype=tf.string, name=None), TensorSpec(shape=(), dtype=tf.int64, name=None))\n"
     ]
    }
   ],
   "source": [
    "dataset, info = tfds.load(name = \"imdb_reviews\", with_info=True, as_supervised=True)\n",
    "\n",
    "train_dataset, test_dataset = dataset[\"train\"], dataset[\"test\"]\n",
    "print(train_dataset.element_spec, test_dataset.element_spec)"
   ]
  },
  {
   "cell_type": "code",
   "execution_count": 4,
   "metadata": {
    "ExecuteTime": {
     "end_time": "2021-02-08T00:46:14.286182Z",
     "start_time": "2021-02-08T00:46:14.241416Z"
    }
   },
   "outputs": [
    {
     "name": "stdout",
     "output_type": "stream",
     "text": [
      "Review; tf.Tensor(b\"This was an absolutely terrible movie. Don't be lured in by Christopher Walken or Michael Ironside. Both are great actors, but this must simply be their worst role in history. Even their great acting could not redeem this movie's ridiculous storyline. This movie is an early nineties US propaganda piece. The most pathetic scenes were those when the Columbian rebels were making their cases for revolutions. Maria Conchita Alonso appeared phony, and her pseudo-love affair with Walken was nothing but a pathetic emotional plug in a movie that was devoid of any real meaning. I am disappointed that there are movies like this, ruining actor's like Christopher Walken's good name. I could barely sit through it.\", shape=(), dtype=string)\n",
      "Label: tf.Tensor(0, shape=(), dtype=int64)\n"
     ]
    }
   ],
   "source": [
    "# View some examples from train\n",
    "for review, label in train_dataset.take(1):\n",
    "    print(\"Review;\", review)\n",
    "    print(\"Label:\", label)"
   ]
  },
  {
   "cell_type": "code",
   "execution_count": 5,
   "metadata": {
    "ExecuteTime": {
     "end_time": "2021-02-08T00:46:14.315684Z",
     "start_time": "2021-02-08T00:46:14.287586Z"
    }
   },
   "outputs": [
    {
     "name": "stdout",
     "output_type": "stream",
     "text": [
      "Review; tf.Tensor(b\"There are films that make careers. For George Romero, it was NIGHT OF THE LIVING DEAD; for Kevin Smith, CLERKS; for Robert Rodriguez, EL MARIACHI. Add to that list Onur Tukel's absolutely amazing DING-A-LING-LESS. Flawless film-making, and as assured and as professional as any of the aforementioned movies. I haven't laughed this hard since I saw THE FULL MONTY. (And, even then, I don't think I laughed quite this hard... So to speak.) Tukel's talent is considerable: DING-A-LING-LESS is so chock full of double entendres that one would have to sit down with a copy of this script and do a line-by-line examination of it to fully appreciate the, uh, breadth and width of it. Every shot is beautifully composed (a clear sign of a sure-handed director), and the performances all around are solid (there's none of the over-the-top scenery chewing one might've expected from a film like this). DING-A-LING-LESS is a film whose time has come.\", shape=(), dtype=string)\n",
      "Label: tf.Tensor(1, shape=(), dtype=int64)\n"
     ]
    }
   ],
   "source": [
    "# View some examples from test\n",
    "for review, label in test_dataset.take(1):\n",
    "    print(\"Review;\", review)\n",
    "    print(\"Label:\", label)"
   ]
  },
  {
   "cell_type": "code",
   "execution_count": 6,
   "metadata": {
    "ExecuteTime": {
     "end_time": "2021-02-08T00:46:14.321505Z",
     "start_time": "2021-02-08T00:46:14.317324Z"
    }
   },
   "outputs": [],
   "source": [
    "train_dataset = train_dataset.shuffle(BUFFER_SIZE).batch(BUFFER_BATCH_SIZE).prefetch(tf.data.experimental.AUTOTUNE)\n",
    "test_dataset = test_dataset.shuffle(BUFFER_SIZE).batch(BUFFER_BATCH_SIZE).prefetch(tf.data.experimental.AUTOTUNE)"
   ]
  },
  {
   "cell_type": "code",
   "execution_count": 7,
   "metadata": {},
   "outputs": [
    {
     "name": "stdout",
     "output_type": "stream",
     "text": [
      "tf.Tensor(b'Well, I bought the Zombie Bloodbath trilogy thinking it would be mindless gory fun. That\\'s what it is, without the fun. This film truly is mindless, it is absent of any plot or character development, or any sort of storyline. The basic problem with this movie is the kills and gore. Basically, every kill looks EXACTLY the same. ZOmbies ripping someone apart. Yeah, that\\'s okay, but you need some original kills too. I mean it got really lame, every kill looked exactly the same, filmed exactly the same way. Thats what killed me. I love gore, and the gore in this film did nothing for me. It was just boring. No storyline, just the same lame scene over and over again with a different person. I wanted to like this movie, too. I love shot on video gore movies...like Redneck Zombies. But I couldn\\'t kid myself. This film has it\\'s good points, but none of those are in the film. I understand that many of the \"zombies\" helped out with the flood and there were like over 100 zombies, which is pretty cool how they got so many people involved and helped out in the world. But overall, this is a terrible film.', shape=(), dtype=string)\n"
     ]
    }
   ],
   "source": [
    "for element in train_dataset:\n",
    "    print(element[0][0])\n",
    "    break"
   ]
  },
  {
   "cell_type": "markdown",
   "metadata": {},
   "source": [
    "# Data processing"
   ]
  },
  {
   "cell_type": "code",
   "execution_count": 8,
   "metadata": {},
   "outputs": [],
   "source": [
    "# Having looked at our data above, we see that the raw text contains HTML break\n",
    "# tags of the form '<br />'. These tags will not be removed by the default\n",
    "# standardizer (which doesn't strip HTML).\n",
    "# We will need to create a custom standardization function.\n",
    "def custom_standardization(input_data):\n",
    "    lowercase = tf.strings.lower(input_data)\n",
    "    stripped_html = tf.strings.regex_replace(lowercase, \"<br />\", \" \")\n",
    "    return tf.strings.regex_replace(\n",
    "        stripped_html, \"[%s]\" % re.escape(string.punctuation), \"\"\n",
    "    )"
   ]
  },
  {
   "cell_type": "code",
   "execution_count": 9,
   "metadata": {
    "ExecuteTime": {
     "end_time": "2021-02-08T00:46:18.053683Z",
     "start_time": "2021-02-08T00:46:14.326716Z"
    }
   },
   "outputs": [],
   "source": [
    "encoder = TextVectorization(\n",
    "    max_tokens = VOCAB_SIZE,\n",
    "    standardize = custom_standardization,\n",
    "    split = \"whitespace\",\n",
    "    output_mode = \"int\",\n",
    "    output_sequence_length = MAX_SEQUENCE_LENGTH\n",
    ")\n",
    "\n",
    "# Adapt to train text\n",
    "encoder.adapt(train_dataset.map(lambda text, label: text))"
   ]
  },
  {
   "cell_type": "code",
   "execution_count": 10,
   "metadata": {},
   "outputs": [
    {
     "name": "stdout",
     "output_type": "stream",
     "text": [
      "tf.Tensor(b'I have looked forward to seeing this since I first saw it listed in her work. Finally found it yesterday 2/13/02 on Lifetime Movie Channel.<br /><br />Jim Larson\\'s comments about it being a \"sweet funny story of 2 people crossing paths\" were dead on. Writers probably shouldn\\'t get a bonus, everyone else SRO for making the movie.<br /><br />Anybody who appreciates a romantic Movie SHOULD SEE IT.<br /><br />Natasha\\'s screen presence is so warm and her smile so electric, to say nothing of her beauty, that anything she is in goes on my favorite list. Her TV and print interviews that I have seen are just as refreshing and well worth looking for.<br /><br />God Bless her, her family and future endeavors.<br /><br />This movie doesn\\'t seem to available in DVD or video yet, but I would be the first to buy it and I think others would too.', shape=(), dtype=string)\n"
     ]
    }
   ],
   "source": [
    "for element in train_dataset:\n",
    "    print(element[0][0])\n",
    "    break"
   ]
  },
  {
   "cell_type": "code",
   "execution_count": 11,
   "metadata": {},
   "outputs": [],
   "source": [
    "def vectorize_text(text, label):\n",
    "    text = tf.expand_dims(text, -1)\n",
    "    return encoder(text), label\n",
    "\n",
    "# Vectorize the data.\n",
    "train_dataset = train_dataset.map(vectorize_text)\n",
    "test_dataset = test_dataset.map(vectorize_text)"
   ]
  },
  {
   "cell_type": "markdown",
   "metadata": {},
   "source": [
    "# Modelling"
   ]
  },
  {
   "cell_type": "code",
   "execution_count": 12,
   "metadata": {
    "ExecuteTime": {
     "end_time": "2021-02-08T00:46:18.092773Z",
     "start_time": "2021-02-08T00:46:18.060330Z"
    }
   },
   "outputs": [],
   "source": [
    "# A integer input for vocab indices.\n",
    "inputs = tf.keras.Input(shape=(None,), dtype=\"int64\")\n",
    "\n",
    "# Next, we add a layer to map those vocab indices into a space of dimensionality\n",
    "x = layers.Embedding(VOCAB_SIZE, EMBEDDING_DIM)(inputs)\n",
    "x = layers.Dropout(0.3)(x)\n",
    "\n",
    "# Conv1D + global max pooling\n",
    "x = layers.Conv1D(128, 7, padding=\"valid\", activation=\"relu\", strides=3)(x)\n",
    "x = layers.Conv1D(128, 7, padding=\"valid\", activation=\"relu\", strides=3)(x)\n",
    "x = layers.GlobalMaxPooling1D()(x)\n",
    "\n",
    "# We add a vanilla hidden layer\n",
    "x = layers.Dense(128, activation=\"relu\")(x)\n",
    "x = layers.Dropout(0.5)(x)\n",
    "\n",
    "# We project onto a single unit output layer, and squash it with a sigmoid\n",
    "predictions = layers.Dense(1, activation=\"sigmoid\", name=\"predictions\")(x)\n",
    "\n",
    "# We create a model object\n",
    "model = tf.keras.Model(inputs, predictions)\n",
    "\n",
    "# Compile the model with binary crossentropy loss and an adam optimizer\n",
    "model.compile(loss=\"binary_crossentropy\", optimizer=\"adam\", metrics=[\"accuracy\"])"
   ]
  },
  {
   "cell_type": "code",
   "execution_count": 13,
   "metadata": {
    "ExecuteTime": {
     "end_time": "2021-02-08T00:46:18.104716Z",
     "start_time": "2021-02-08T00:46:18.103100Z"
    }
   },
   "outputs": [],
   "source": [
    "# Create callbacks\n",
    "callbacks = [\n",
    "    tf.keras.callbacks.EarlyStopping(monitor=\"val_loss\", patience=3)\n",
    "]"
   ]
  },
  {
   "cell_type": "code",
   "execution_count": 14,
   "metadata": {
    "ExecuteTime": {
     "end_time": "2021-02-08T00:51:07.658920Z",
     "start_time": "2021-02-08T00:46:18.105471Z"
    }
   },
   "outputs": [
    {
     "name": "stdout",
     "output_type": "stream",
     "text": [
      "Epoch 1/10\n",
      "391/391 [==============================] - 7s 17ms/step - loss: 0.4867 - accuracy: 0.7271 - val_loss: 0.2779 - val_accuracy: 0.8859\n",
      "Epoch 2/10\n",
      "391/391 [==============================] - 6s 16ms/step - loss: 0.2505 - accuracy: 0.9034 - val_loss: 0.2517 - val_accuracy: 0.8922\n",
      "Epoch 3/10\n",
      "391/391 [==============================] - 6s 16ms/step - loss: 0.1616 - accuracy: 0.9389 - val_loss: 0.3255 - val_accuracy: 0.8953\n",
      "Epoch 4/10\n",
      "391/391 [==============================] - 6s 16ms/step - loss: 0.0919 - accuracy: 0.9678 - val_loss: 0.4103 - val_accuracy: 0.8719\n",
      "Epoch 5/10\n",
      "391/391 [==============================] - 7s 17ms/step - loss: 0.0542 - accuracy: 0.9806 - val_loss: 0.5602 - val_accuracy: 0.8594\n"
     ]
    }
   ],
   "source": [
    "# Train and validate model on sub-sample from test dataset\n",
    "history = model.fit(\n",
    "    train_dataset,\n",
    "    epochs = 10,\n",
    "    validation_data = test_dataset,\n",
    "    validation_steps = 10,\n",
    "    callbacks = callbacks\n",
    ")"
   ]
  },
  {
   "cell_type": "code",
   "execution_count": 15,
   "metadata": {
    "ExecuteTime": {
     "end_time": "2021-02-08T00:51:18.010649Z",
     "start_time": "2021-02-08T00:51:07.660382Z"
    }
   },
   "outputs": [
    {
     "name": "stdout",
     "output_type": "stream",
     "text": [
      "391/391 [==============================] - 3s 8ms/step - loss: 0.5178 - accuracy: 0.8710\n",
      "Test loss; 0.5177947282791138\n",
      "Test accuracy: 0.8709999918937683\n"
     ]
    }
   ],
   "source": [
    "# Evaluate model performance on test dataset\n",
    "test_loss, test_acc = model.evaluate(test_dataset)\n",
    "\n",
    "print(\"Test loss;\", test_loss)\n",
    "print(\"Test accuracy:\", test_acc)"
   ]
  },
  {
   "cell_type": "markdown",
   "metadata": {},
   "source": [
    "# Visualize model performance"
   ]
  },
  {
   "cell_type": "code",
   "execution_count": 16,
   "metadata": {
    "ExecuteTime": {
     "end_time": "2021-02-08T00:51:18.021742Z",
     "start_time": "2021-02-08T00:51:18.015213Z"
    }
   },
   "outputs": [],
   "source": [
    "def plot_graphs(history, metric):\n",
    "    plt.plot(history.history[metric])\n",
    "    plt.plot(history.history[\"val_\" + metric], \"\")\n",
    "    plt.xlabel(\"Epochs\")\n",
    "    plt.ylabel(metric)\n",
    "    plt.legend([metric, \"val_\"+metric])"
   ]
  },
  {
   "cell_type": "code",
   "execution_count": 17,
   "metadata": {
    "ExecuteTime": {
     "end_time": "2021-02-08T00:51:18.202501Z",
     "start_time": "2021-02-08T00:51:18.022624Z"
    }
   },
   "outputs": [
    {
     "data": {
      "text/plain": [
       "(0.0, 0.5854941667988897)"
      ]
     },
     "execution_count": 17,
     "metadata": {},
     "output_type": "execute_result"
    },
    {
     "data": {
      "image/png": "[encoded data removed]",
      "text/plain": [
       "<Figure size 1152x576 with 2 Axes>"
      ]
     },
     "metadata": {
      "needs_background": "light"
     },
     "output_type": "display_data"
    }
   ],
   "source": [
    "# Create a figure\n",
    "plt.figure(figsize=(16,8))\n",
    "\n",
    "# Plot accuracy graph\n",
    "plt.subplot(1,2,1)\n",
    "plot_graphs(history, \"accuracy\")\n",
    "plt.ylim(None,1)\n",
    "\n",
    "# Plot loss graph\n",
    "plt.subplot(1,2,2)\n",
    "plot_graphs(history, \"loss\")\n",
    "plt.ylim(0, None)"
   ]
  },
  {
   "cell_type": "code",
   "execution_count": null,
   "metadata": {},
   "outputs": [],
   "source": []
  }
 ],
 "metadata": {
  "kernelspec": {
   "display_name": "Python [conda env:dl-env]",
   "language": "python",
   "name": "conda-env-dl-env-py"
  },
  "language_info": {
   "codemirror_mode": {
    "name": "ipython",
    "version": 3
   },
   "file_extension": ".py",
   "mimetype": "text/x-python",
   "name": "python",
   "nbconvert_exporter": "python",
   "pygments_lexer": "ipython3",
   "version": "3.8.8"
  },
  "toc": {
   "base_numbering": 1,
   "nav_menu": {},
   "number_sections": true,
   "sideBar": true,
   "skip_h1_title": false,
   "title_cell": "Table of Contents",
   "title_sidebar": "Contents",
   "toc_cell": false,
   "toc_position": {},
   "toc_section_display": true,
   "toc_window_display": false
  }
 },
 "nbformat": 4,
 "nbformat_minor": 5
}
